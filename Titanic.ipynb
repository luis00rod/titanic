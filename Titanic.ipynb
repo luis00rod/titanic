{
 "cells": [
  {
   "cell_type": "code",
   "execution_count": 1,
   "id": "676032f8",
   "metadata": {},
   "outputs": [],
   "source": [
    "import pandas as pd\n",
    "from sklearn.model_selection import train_test_split\n",
    "from sklearn.linear_model import LogisticRegression\n",
    "from sklearn.preprocessing import StandardScaler\n",
    "from sklearn.utils import shuffle\n",
    "from sklearn import metrics \n",
    "import matplotlib as plt\n",
    "import numpy as np"
   ]
  },
  {
   "cell_type": "code",
   "execution_count": 2,
   "id": "c268bdd7",
   "metadata": {},
   "outputs": [],
   "source": [
    "df_train = pd.read_csv('train.csv')\n",
    "df_test = pd.read_csv('test.csv')"
   ]
  },
  {
   "cell_type": "code",
   "execution_count": null,
   "id": "78fb3a7f",
   "metadata": {},
   "outputs": [],
   "source": [
    "df_train.head(10)"
   ]
  },
  {
   "cell_type": "code",
   "execution_count": null,
   "id": "f8de8979",
   "metadata": {},
   "outputs": [],
   "source": [
    "df_train.describe()"
   ]
  },
  {
   "cell_type": "code",
   "execution_count": null,
   "id": "e3267008",
   "metadata": {},
   "outputs": [],
   "source": [
    "df_train.shape[0],df_test.shape[0]"
   ]
  },
  {
   "cell_type": "code",
   "execution_count": null,
   "id": "a29a2d24",
   "metadata": {},
   "outputs": [],
   "source": [
    "df_train.isnull().sum() "
   ]
  },
  {
   "cell_type": "code",
   "execution_count": null,
   "id": "5134cd39",
   "metadata": {},
   "outputs": [],
   "source": [
    "def hist_age(data):\n",
    "    return data.Age.hist(bins=20)"
   ]
  },
  {
   "cell_type": "code",
   "execution_count": null,
   "id": "65db16d5",
   "metadata": {},
   "outputs": [],
   "source": [
    "def sex_values(data):\n",
    "    return data.Sex.value_counts().plot(kind='barh')"
   ]
  },
  {
   "cell_type": "code",
   "execution_count": null,
   "id": "ca705998",
   "metadata": {},
   "outputs": [],
   "source": [
    "def p_class(data):\n",
    "    return data['Pclass'].value_counts().plot(kind='barh')"
   ]
  },
  {
   "cell_type": "code",
   "execution_count": null,
   "id": "31e24ca1",
   "metadata": {},
   "outputs": [],
   "source": [
    "def survived(data):\n",
    "    return  df_train.groupby('Sex').Survived.mean().plot(kind='barh').set_xlabel('% survive')"
   ]
  },
  {
   "cell_type": "code",
   "execution_count": null,
   "id": "9a58f5a6",
   "metadata": {},
   "outputs": [],
   "source": [
    "sex_values(df_train)"
   ]
  },
  {
   "cell_type": "code",
   "execution_count": null,
   "id": "0afd51ac",
   "metadata": {},
   "outputs": [],
   "source": [
    "p_class(df_train)"
   ]
  },
  {
   "cell_type": "code",
   "execution_count": null,
   "id": "fc7b03c5",
   "metadata": {},
   "outputs": [],
   "source": [
    "survived(df_train)"
   ]
  },
  {
   "cell_type": "code",
   "execution_count": null,
   "id": "d7c58ecf",
   "metadata": {},
   "outputs": [],
   "source": [
    "df_train.Survived.groupby(df_train.Title).mean()"
   ]
  },
  {
   "cell_type": "code",
   "execution_count": null,
   "id": "e1440b35",
   "metadata": {},
   "outputs": [],
   "source": [
    "df_train[('Title')]"
   ]
  },
  {
   "cell_type": "code",
   "execution_count": null,
   "id": "fe18184b",
   "metadata": {},
   "outputs": [],
   "source": [
    "df_train[('Title')] = df_train[('Title')].map(dict_last_name)"
   ]
  },
  {
   "cell_type": "code",
   "execution_count": null,
   "id": "b8bd66b4",
   "metadata": {},
   "outputs": [],
   "source": [
    "df_train[('Title')].isnull().sum(0)"
   ]
  },
  {
   "cell_type": "code",
   "execution_count": 14,
   "id": "1ce617b7",
   "metadata": {},
   "outputs": [
    {
     "data": {
      "text/plain": [
       "count    891.000000\n",
       "mean      32.204208\n",
       "std       49.693429\n",
       "min        0.000000\n",
       "25%        7.910400\n",
       "50%       14.454200\n",
       "75%       31.000000\n",
       "max      512.329200\n",
       "Name: Fare, dtype: float64"
      ]
     },
     "execution_count": 14,
     "metadata": {},
     "output_type": "execute_result"
    }
   ],
   "source": [
    "df_train.Fare.describe()"
   ]
  },
  {
   "cell_type": "code",
   "execution_count": 4,
   "id": "76853a9d",
   "metadata": {},
   "outputs": [
    {
     "data": {
      "text/plain": [
       "Survived\n",
       "0    22.117887\n",
       "1    48.395408\n",
       "Name: Fare, dtype: float64"
      ]
     },
     "execution_count": 4,
     "metadata": {},
     "output_type": "execute_result"
    }
   ],
   "source": [
    "df_train.Fare.groupby(df_train.Survived).mean()"
   ]
  },
  {
   "cell_type": "code",
   "execution_count": null,
   "id": "84462c21",
   "metadata": {},
   "outputs": [],
   "source": [
    "def clean_data(data):\n",
    "    data[('Sex')] = (data[('Sex')] == 'male')*1\n",
    "    data[('Embarked')] = data[('Embarked')].dropna().map({'S':0,'C':1,'Q':2}).astype(int) \n",
    "    data[('Title')] = data.Name.str.extract(' ([A-Za-z]+)\\.')\n",
    "    data[('Title')] = data[('Title')].replace(['Capt','Col','Countess','Don','Dr','Jonkheer','Rev','Sir',\n",
    "                                             'Lady','Major'],'Other')\n",
    "    data['Title'] = data['Title'].replace('Mlle', 'Miss')\n",
    "    data['Title'] = data['Title'].replace('Mme', 'Miss')\n",
    "    data['Title'] = data['Title'].replace('Ms', 'Miss')\n",
    "    dict_last_name = {'Mr':0,'Mrs':1,'Miss':2,'Master':4,'Other':5}\n",
    "    data[('Title')] = data[('Title')].map(dict_last_name)\n",
    "    data[('Age')] = data[('Age')].fillna(data[('Age')].mean())\n",
    "    data = data.drop(['Ticket','Cabin','Name'],axis=1)\n",
    "    data = data.fillna(0)\n",
    "    return data   "
   ]
  },
  {
   "cell_type": "code",
   "execution_count": null,
   "id": "62935336",
   "metadata": {},
   "outputs": [],
   "source": [
    "df_train_clean = clean_data(df_train)"
   ]
  },
  {
   "cell_type": "code",
   "execution_count": null,
   "id": "fc65d77b",
   "metadata": {},
   "outputs": [],
   "source": [
    "df_test_clean = clean_data(df_test)"
   ]
  },
  {
   "cell_type": "code",
   "execution_count": null,
   "id": "53293d6e",
   "metadata": {},
   "outputs": [],
   "source": [
    "df_test_clean.columns"
   ]
  },
  {
   "cell_type": "code",
   "execution_count": null,
   "id": "163d79e1",
   "metadata": {},
   "outputs": [],
   "source": [
    "selected_feature = ['Pclass','Sex', 'Age', 'SibSp', 'Parch', 'Fare', 'Embarked','Survived']\n",
    "df_train_clean[(selected_feature)].shape"
   ]
  },
  {
   "cell_type": "code",
   "execution_count": null,
   "id": "5637b0ee",
   "metadata": {},
   "outputs": [],
   "source": [
    "df_train_clean.head()"
   ]
  },
  {
   "cell_type": "code",
   "execution_count": null,
   "id": "9c9cc507",
   "metadata": {},
   "outputs": [],
   "source": [
    "X = df_train_clean.drop('Survived', axis=1)\n",
    "y = df_train_clean['Survived']"
   ]
  },
  {
   "cell_type": "code",
   "execution_count": null,
   "id": "2af9feab",
   "metadata": {},
   "outputs": [],
   "source": [
    "X.Title.unique()"
   ]
  },
  {
   "cell_type": "code",
   "execution_count": null,
   "id": "de822aa5",
   "metadata": {},
   "outputs": [],
   "source": [
    "from sklearn.preprocessing import MinMaxScaler\n",
    "\n",
    "def scaled(data):\n",
    "    scaler = StandardScaler()\n",
    "    data = pd.DataFrame(scaler.fit_transform(data))\n",
    "    return data"
   ]
  },
  {
   "cell_type": "code",
   "execution_count": null,
   "id": "0359ae36",
   "metadata": {},
   "outputs": [],
   "source": [
    "X_scaled = scaled(X)"
   ]
  },
  {
   "cell_type": "code",
   "execution_count": null,
   "id": "1be341ff",
   "metadata": {},
   "outputs": [],
   "source": [
    "X_train, X_test, y_train, y_test = train_test_split(X_scaled, y, test_size = 0.20,random_state = 42, shuffle = True)"
   ]
  },
  {
   "cell_type": "code",
   "execution_count": null,
   "id": "8d353dcd",
   "metadata": {},
   "outputs": [],
   "source": [
    "def model(X_train,y_train,X_test,y_test):\n",
    "    lr = LogisticRegression()\n",
    "    lr.fit(X_train,y_train)\n",
    "    y_pred=lr.predict(X_test)\n",
    "    f1_score = metrics.f1_score(y_test, y_pred, average='macro')\n",
    "    f1_score\n",
    "    return f1_score"
   ]
  },
  {
   "cell_type": "code",
   "execution_count": null,
   "id": "166aa52c",
   "metadata": {},
   "outputs": [],
   "source": [
    "model(X_train,y_train,X_test,y_test)"
   ]
  },
  {
   "cell_type": "code",
   "execution_count": null,
   "id": "9e12f99c",
   "metadata": {},
   "outputs": [],
   "source": [
    "def prediction(df_test,X_train,y_train):\n",
    "    y_eval = scaled(df_test_clean)\n",
    "    lr.fit(X_train,y_train)\n",
    "    prediction = lr.predict(y_eval)\n",
    "    df = pd.DataFrame(df_test_clean.PassengerId).join(pd.DataFrame(prediction))\n",
    "    df.rename(columns = {0:'Survived'}, inplace=True)\n",
    "    evaluation = pd.DataFrame(df).to_csv('evaluation_4.csv', header=True, index = False)"
   ]
  },
  {
   "cell_type": "code",
   "execution_count": null,
   "id": "97e4b965",
   "metadata": {},
   "outputs": [],
   "source": [
    "prediction(df_test_clean,X_train,y_train)"
   ]
  },
  {
   "cell_type": "code",
   "execution_count": null,
   "id": "45ae6c0d",
   "metadata": {},
   "outputs": [],
   "source": [
    "from sklearn.svm import SVC, LinearSVC"
   ]
  },
  {
   "cell_type": "code",
   "execution_count": null,
   "id": "49a7b24d",
   "metadata": {},
   "outputs": [],
   "source": [
    "svc = SVC()\n",
    "svc.fit(X_train, y_train)\n",
    "Y_pred = svc.predict(X_test)\n",
    "f1_score = metrics.f1_score(y_test, Y_pred, average='macro')\n",
    "f1_score"
   ]
  },
  {
   "cell_type": "code",
   "execution_count": null,
   "id": "587befca",
   "metadata": {},
   "outputs": [],
   "source": [
    "X_eval = scaled(df_test_clean)\n",
    "Y_pred = svc.predict(X_eval)"
   ]
  },
  {
   "cell_type": "code",
   "execution_count": null,
   "id": "82215f77",
   "metadata": {},
   "outputs": [],
   "source": [
    "from sklearn.ensemble import RandomForestClassifier"
   ]
  },
  {
   "cell_type": "code",
   "execution_count": null,
   "id": "0f309533",
   "metadata": {},
   "outputs": [],
   "source": [
    "random_forest = RandomForestClassifier(n_estimators=100)\n",
    "random_forest.fit(X_train, y_train)\n",
    "Y_pred = random_forest.predict(X_test)\n",
    "f1_score = metrics.f1_score(y_test, Y_pred, average='macro')\n",
    "f1_score"
   ]
  },
  {
   "cell_type": "code",
   "execution_count": null,
   "id": "9430fc58",
   "metadata": {},
   "outputs": [],
   "source": [
    "y_eval = scaled(df_test_clean)\n",
    "prediction = random_forest.predict(y_eval)"
   ]
  },
  {
   "cell_type": "code",
   "execution_count": null,
   "id": "3b5ec1e5",
   "metadata": {},
   "outputs": [],
   "source": [
    "df = pd.DataFrame(df_test_clean.PassengerId).join(pd.DataFrame(prediction))\n",
    "df.rename(columns = {0:'Survived'}, inplace=True)\n",
    "evaluation = pd.DataFrame(df).to_csv('prediction_2.csv', header=True, index = False)"
   ]
  },
  {
   "cell_type": "code",
   "execution_count": null,
   "id": "d44e516d",
   "metadata": {},
   "outputs": [],
   "source": [
    "df"
   ]
  },
  {
   "cell_type": "code",
   "execution_count": null,
   "id": "6e640d6b",
   "metadata": {},
   "outputs": [],
   "source": []
  }
 ],
 "metadata": {
  "kernelspec": {
   "display_name": "Python 3",
   "language": "python",
   "name": "python3"
  },
  "language_info": {
   "codemirror_mode": {
    "name": "ipython",
    "version": 3
   },
   "file_extension": ".py",
   "mimetype": "text/x-python",
   "name": "python",
   "nbconvert_exporter": "python",
   "pygments_lexer": "ipython3",
   "version": "3.5.6"
  }
 },
 "nbformat": 4,
 "nbformat_minor": 5
}
